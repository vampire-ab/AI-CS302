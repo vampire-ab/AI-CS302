{
 "cells": [
  {
   "cell_type": "code",
   "execution_count": 96,
   "id": "42a41847",
   "metadata": {},
   "outputs": [],
   "source": [
    "import numpy as np\n",
    "\n",
    "class MDP():\n",
    "    \n",
    "    prob_correct_answer = [0.99, 0.9, 0.8, 0.7, 0.6, 0.5, 0.4, 0.3, 0.2, 0.1]\n",
    "    rewards = [100, 500, 1000, 5000, 10000, 50000, 100000, 500000, 1000000, 5000000]\n",
    "    n_states = 10\n",
    "    gamma = 1\n",
    "    epsilon = 10\n",
    "    V = np.zeros(n_states)\n",
    "    policy = np.zeros(n_states)\n",
    "        \n",
    "    def policy_iteration(self):\n",
    "        iterations = 0\n",
    "        while True:\n",
    "            delta = 0\n",
    "            for s in range(n_states):\n",
    "                iterations = iterations+1\n",
    "                stay_value = 0\n",
    "                quit_value = rewards[s]\n",
    "                for s_prime in range(s+1, n_states):\n",
    "                    stay_value += prob_correct_answer[s] * (rewards[s] + gamma * V[s_prime])\n",
    "                    quit_value += (1 - prob_correct_answer[s]) * rewards[s_prime] * gamma ** (s_prime - s - 1)\n",
    "                max_value = max(stay_value, quit_value)\n",
    "                if max_value == quit_value:\n",
    "                    policy[s] = 1\n",
    "                else:\n",
    "                    policy[s] = 0\n",
    "                delta = abs(max_value - V[s])\n",
    "                V[s] = max_value\n",
    "            if delta < epsilon:\n",
    "                print(\"Number of iterations it took to converge is : \"+str(iterations))\n",
    "                break\n",
    "    \n",
    "    def print_states(self):\n",
    "        for s in range(n_states):\n",
    "            state_numer = str(s+1)\n",
    "            if policy[s] == 1:\n",
    "                print(\"State \"+state_numer+\": Quit\")\n",
    "                break\n",
    "            else:\n",
    "                print(\"State \"+state_numer+\": Stay\")"
   ]
  },
  {
   "cell_type": "code",
   "execution_count": 97,
   "id": "7b6b13c7",
   "metadata": {},
   "outputs": [
    {
     "name": "stdout",
     "output_type": "stream",
     "text": [
      "Number of iterations it took to converge is : 10\n",
      "State 1: Stay\n",
      "State 2: Stay\n",
      "State 3: Stay\n",
      "State 4: Stay\n",
      "State 5: Stay\n",
      "State 6: Stay\n",
      "State 7: Stay\n",
      "State 8: Quit\n"
     ]
    }
   ],
   "source": [
    "game_play = MDP()\n",
    "game_play.policy_iteration()\n",
    "game_play.print_states()"
   ]
  }
 ],
 "metadata": {
  "kernelspec": {
   "display_name": "Python 3 (ipykernel)",
   "language": "python",
   "name": "python3"
  },
  "language_info": {
   "codemirror_mode": {
    "name": "ipython",
    "version": 3
   },
   "file_extension": ".py",
   "mimetype": "text/x-python",
   "name": "python",
   "nbconvert_exporter": "python",
   "pygments_lexer": "ipython3",
   "version": "3.10.6"
  }
 },
 "nbformat": 4,
 "nbformat_minor": 5
}
